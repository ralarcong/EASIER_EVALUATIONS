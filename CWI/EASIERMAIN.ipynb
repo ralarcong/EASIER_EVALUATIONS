{
 "cells": [
  {
   "cell_type": "code",
   "execution_count": 1,
   "metadata": {},
   "outputs": [],
   "source": [
    "from clasificador import clasificador\n",
    "from text2tokens import text2tokens\n",
    "\n",
    "import os\n",
    "import csv"
   ]
  },
  {
   "cell_type": "code",
   "execution_count": 2,
   "metadata": {
    "scrolled": true
   },
   "outputs": [
    {
     "name": "stdout",
     "output_type": "stream",
     "text": [
      "LinearSVC(dual=False)\n",
      "              precision    recall  f1-score   support\n",
      "\n",
      "         0.0       0.82      0.87      0.84      1326\n",
      "         1.0       0.78      0.72      0.75       907\n",
      "\n",
      "    accuracy                           0.80      2233\n",
      "   macro avg       0.80      0.79      0.79      2233\n",
      "weighted avg       0.80      0.80      0.80      2233\n",
      "\n",
      "0.8047469771607703 0.800514384199547 0.7908279162737948 0.7945704832801607\n"
     ]
    }
   ],
   "source": [
    "clasificadorobj = clasificador()\n",
    "\n",
    "\n",
    "path = 'path to unigram dictionaries'\n",
    "unigrams = clasificadorobj.loadDic(path)\n",
    "totalUnis = sum(unigrams.values())\n",
    "maxValue = max(unigrams.values())\n",
    "\n",
    "\n",
    "path = 'path to unigram dictionaries'\n",
    "bigrams = clasificadorobj.loadDic(path)\n",
    "totalBis = sum(bigrams.values())\n",
    "\n",
    "\n",
    "path = 'path to unigram dictionaries'\n",
    "trigrams = clasificadorobj.loadDic(path)\n",
    "totalTris = sum(trigrams.values())\n",
    "\n",
    "# DICCIONARIOE2R\n",
    "path = 'path to unigram E2R dictionaries'\n",
    "uniE2R = clasificadorobj.loadDic3(path)\n",
    "\n",
    "# Add \"#\" if you  don´t want to train a new model---from here\n",
    "\n",
    "\n",
    "#path = 'traindata/spanish/Spanish_Train.tsv'\n",
    "path = 'traindata/spanish/Spanish_Train+DEV_true.tsv'\n",
    "#path = 'traindata/spanish/Spanish_Train+DEV+TEST.tsv'\n",
    "#path = 'traindata/spanish/Spanish_Train+DEV_true+EN.tsv'\n",
    "#path = 'traindata/english/EnTrainall.tsv'\n",
    "#path = 'corpuseasier/Train.csv'\n",
    "matrix_train = clasificadorobj.getMatrix_traineasier(path, trigrams, totalTris, bigrams, unigrams, totalBis, totalUnis,uniE2R)\n",
    "\n",
    "path = 'traindata/test/Spanish_Test.tsv'\n",
    "#path = 'corpuseasier/Test.csv'\n",
    "#path = 'traindata/spanish/Spanish_Dev.tsv'\n",
    "matrix_dev = clasificadorobj.getMatrix_traineasier(path, trigrams, totalTris, bigrams, unigrams, totalBis, totalUnis, uniE2R)\n",
    "\n",
    "\n",
    "\n",
    "# to here\n",
    "\n",
    "\n",
    "numCol = matrix_dev.shape[1]\n",
    "\n",
    "X_train = matrix_train[:, 0:numCol - 1]\n",
    "y_train = matrix_train[:, -1]  \n",
    "\n",
    "numCol = matrix_dev.shape[1]\n",
    "\n",
    "X_dev = matrix_dev[:, 0:numCol - 1]\n",
    "y_dev = matrix_dev[:, -1] \n",
    "\n",
    "clasificadorobj.SvmClassifier(X_train, y_train)\n",
    "clasificadorobj.SVMLoad() #oly leave this without comment\n",
    "clasificadorobj.SVMEvaluation(y_dev, X_dev)\n",
    "\n",
    "\n",
    "    "
   ]
  }
 ],
 "metadata": {
  "kernelspec": {
   "display_name": "Python 3",
   "language": "python",
   "name": "python3"
  },
  "language_info": {
   "codemirror_mode": {
    "name": "ipython",
    "version": 3
   },
   "file_extension": ".py",
   "mimetype": "text/x-python",
   "name": "python",
   "nbconvert_exporter": "python",
   "pygments_lexer": "ipython3",
   "version": "3.6.3"
  }
 },
 "nbformat": 4,
 "nbformat_minor": 2
}
