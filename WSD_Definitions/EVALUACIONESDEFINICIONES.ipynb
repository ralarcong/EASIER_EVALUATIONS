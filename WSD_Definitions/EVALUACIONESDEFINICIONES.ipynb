{
 "cells": [
  {
   "cell_type": "markdown",
   "metadata": {},
   "source": [
    "# Eval"
   ]
  },
  {
   "cell_type": "code",
   "execution_count": 42,
   "metadata": {},
   "outputs": [],
   "source": [
    "import csv  # package to work with tsv files\n",
    "import numpy as np\n",
    "def getLinesFile(path):\n",
    "    f = open(path, 'r')\n",
    "    # f=path\n",
    "    numExamples = sum(1 for line in f)  # fileObject is your csv.reader\n",
    "    f.close()\n",
    "    return numExamples\n",
    "\n",
    "def evalutotales(path):\n",
    "\n",
    "        tsvin = open(path, \"rt\")\n",
    "        tsvin = csv.reader(tsvin, delimiter='\\t')\n",
    "\n",
    "        indexRow = 0\n",
    "        conttotal=0\n",
    "        contaleatoria=0\n",
    "        conteasier=0\n",
    "        listapalabras=list()\n",
    "        for row in tsvin:\n",
    "            id = row[0]  # id del parrafo donde ocurre la palabra\n",
    "            word=row[1]\n",
    "            label=row[2]\n",
    "            diccionario=row[3]\n",
    "            metodo=row[4]\n",
    "            definicion=row[5]\n",
    "            evaluacion=row[6]\n",
    "            conttotal=conttotal+1\n",
    "            if metodo=='aleatoria':\n",
    "                contaleatoria=contaleatoria+1\n",
    "            elif metodo=='easier':\n",
    "                conteasier=conteasier+1\n",
    "        print(\"total\"+str(conttotal))\n",
    "        print(\"aleatoria\"+str(contaleatoria))\n",
    "        print(\"easier\"+str(conteasier))\n",
    "        \n",
    "        \n",
    "def evaluindividual(path):\n",
    "        # abrimos el fichero\n",
    "        tsvin = open(path, \"rt\")\n",
    "        tsvin = csv.reader(tsvin, delimiter='\\t')\n",
    "\n",
    "        indexRow = 0\n",
    "        conttotal=0\n",
    "        contaleatoria=0\n",
    "        conteasier=0\n",
    "        listapalabras=list()\n",
    "        for row in tsvin:\n",
    "            id = row[0]  # id del parrafo donde ocurre la palabra\n",
    "            word=row[1]\n",
    "            label=row[2]\n",
    "            diccionario=row[3]\n",
    "            metodo=row[4]\n",
    "            definicion=row[5]\n",
    "            evaluacion=row[6]\n",
    "            conttotal=conttotal+1\n",
    "            if metodo=='aleatoria' and evaluacion=='Correcta':\n",
    "                contaleatoria=contaleatoria+1\n",
    "            elif metodo=='easier'and evaluacion=='Correcta':\n",
    "                conteasier=conteasier+1\n",
    "        print(\"total\"+str(conttotal))\n",
    "        print(\"aleatoria\"+str(contaleatoria))\n",
    "        print(\"easier\"+str(conteasier))\n",
    "    \n",
    "def predicciónTotal(path):\n",
    "    numExamples = getLinesFile(path)\n",
    "    numFeatures=1\n",
    "    matrix = np.empty(shape=[numExamples, numFeatures])\n",
    "    \n",
    "    tsvin = open(path, \"rt\")\n",
    "    tsvin = csv.reader(tsvin, delimiter='\\t')\n",
    "\n",
    "    indexRow = 0\n",
    "    for row in tsvin:\n",
    "        id = row[0] \n",
    "        word=row[1]\n",
    "        label=row[2]\n",
    "        diccionario=row[3]\n",
    "        metodo=row[4]\n",
    "        definicion=row[5]\n",
    "        evaluacion=row[6]\n",
    "        vector_fet = np.arange(numFeatures)\n",
    "        if metodo=='aleatoria' and evaluacion=='Correcta':\n",
    "            vector_fet[0] = 1\n",
    "        elif metodo=='easier' and evaluacion=='Correcta':\n",
    "            vector_fet[0] = 1\n",
    "        else:\n",
    "            vector_fet[0]=0\n",
    "            \n",
    "        matrix[indexRow] = vector_fet\n",
    "        indexRow += 1\n",
    "        \n",
    "    return matrix"
   ]
  },
  {
   "cell_type": "code",
   "execution_count": 43,
   "metadata": {
    "scrolled": false
   },
   "outputs": [
    {
     "name": "stdout",
     "output_type": "stream",
     "text": [
      "total525\n",
      "aleatoria408\n",
      "easier117\n"
     ]
    }
   ],
   "source": [
    "evalutotales('EvaluacionesElenaDefiniciones(unic).tsv')"
   ]
  },
  {
   "cell_type": "code",
   "execution_count": 44,
   "metadata": {
    "scrolled": true
   },
   "outputs": [
    {
     "name": "stdout",
     "output_type": "stream",
     "text": [
      "total525\n",
      "aleatoria294\n",
      "easier76\n"
     ]
    }
   ],
   "source": [
    "evaluindividual('EvaluacionesElenaDefiniciones(unic).tsv')"
   ]
  },
  {
   "cell_type": "markdown",
   "metadata": {},
   "source": [
    "# GENERAL"
   ]
  },
  {
   "cell_type": "code",
   "execution_count": 74,
   "metadata": {},
   "outputs": [
    {
     "data": {
      "text/plain": [
       "70.47619047619048"
      ]
     },
     "execution_count": 74,
     "metadata": {},
     "output_type": "execute_result"
    }
   ],
   "source": [
    "((294+76)*100)/(525)"
   ]
  },
  {
   "cell_type": "markdown",
   "metadata": {},
   "source": [
    "# RANDOM"
   ]
  },
  {
   "cell_type": "code",
   "execution_count": 24,
   "metadata": {
    "scrolled": true
   },
   "outputs": [
    {
     "data": {
      "text/plain": [
       "72.05882352941177"
      ]
     },
     "execution_count": 24,
     "metadata": {},
     "output_type": "execute_result"
    }
   ],
   "source": [
    "(294*100)/408"
   ]
  },
  {
   "cell_type": "markdown",
   "metadata": {},
   "source": [
    "# EASIER"
   ]
  },
  {
   "cell_type": "code",
   "execution_count": 25,
   "metadata": {
    "scrolled": true
   },
   "outputs": [
    {
     "data": {
      "text/plain": [
       "64.95726495726495"
      ]
     },
     "execution_count": 25,
     "metadata": {},
     "output_type": "execute_result"
    }
   ],
   "source": [
    "(76*100)/117"
   ]
  }
 ],
 "metadata": {
  "kernelspec": {
   "display_name": "Python 3",
   "language": "python",
   "name": "python3"
  },
  "language_info": {
   "codemirror_mode": {
    "name": "ipython",
    "version": 3
   },
   "file_extension": ".py",
   "mimetype": "text/x-python",
   "name": "python",
   "nbconvert_exporter": "python",
   "pygments_lexer": "ipython3",
   "version": "3.6.3"
  }
 },
 "nbformat": 4,
 "nbformat_minor": 2
}
